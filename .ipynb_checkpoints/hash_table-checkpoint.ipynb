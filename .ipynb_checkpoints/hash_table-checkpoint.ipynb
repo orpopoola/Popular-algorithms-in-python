{
 "cells": [
  {
   "cell_type": "markdown",
   "metadata": {},
   "source": [
    "Hash table (called dictionary in python)"
   ]
  },
  {
   "cell_type": "code",
   "execution_count": 18,
   "metadata": {},
   "outputs": [],
   "source": [
    "#program snippet to record persons who have voted in  dictionary\n",
    "voted = {}\n",
    "def check_voter(name):\n",
    "    if voted.get(name):\n",
    "        print (\"Kick them out\")\n",
    "    else:\n",
    "        voted[name] = \"voted\"\n",
    "        print (\"Let them vote\")"
   ]
  },
  {
   "cell_type": "code",
   "execution_count": 19,
   "metadata": {},
   "outputs": [
    {
     "name": "stdout",
     "output_type": "stream",
     "text": [
      "Let them vote\n"
     ]
    }
   ],
   "source": [
    "check_voter(\"tom\")"
   ]
  },
  {
   "cell_type": "code",
   "execution_count": 20,
   "metadata": {},
   "outputs": [
    {
     "name": "stdout",
     "output_type": "stream",
     "text": [
      "Let them vote\n"
     ]
    }
   ],
   "source": [
    "check_voter(\"mike\")"
   ]
  },
  {
   "cell_type": "code",
   "execution_count": 21,
   "metadata": {},
   "outputs": [
    {
     "name": "stdout",
     "output_type": "stream",
     "text": [
      "Let them vote\n"
     ]
    }
   ],
   "source": [
    "check_voter(\"prince\")"
   ]
  },
  {
   "cell_type": "code",
   "execution_count": 22,
   "metadata": {},
   "outputs": [
    {
     "name": "stdout",
     "output_type": "stream",
     "text": [
      "Kick them out\n"
     ]
    }
   ],
   "source": [
    "check_voter(\"mike\")"
   ]
  },
  {
   "cell_type": "code",
   "execution_count": 17,
   "metadata": {},
   "outputs": [
    {
     "name": "stdout",
     "output_type": "stream",
     "text": [
      "{'tom': 'voted', 'mike': 'voted', 'prince': 'voted'}\n"
     ]
    }
   ],
   "source": [
    "print(voted)"
   ]
  },
  {
   "cell_type": "code",
   "execution_count": null,
   "metadata": {},
   "outputs": [],
   "source": []
  }
 ],
 "metadata": {
  "kernelspec": {
   "display_name": "Python 3",
   "language": "python",
   "name": "python3"
  },
  "language_info": {
   "codemirror_mode": {
    "name": "ipython",
    "version": 3
   },
   "file_extension": ".py",
   "mimetype": "text/x-python",
   "name": "python",
   "nbconvert_exporter": "python",
   "pygments_lexer": "ipython3",
   "version": "3.8.3"
  }
 },
 "nbformat": 4,
 "nbformat_minor": 4
}
