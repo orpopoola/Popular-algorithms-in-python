{
 "cells": [
  {
   "cell_type": "code",
   "execution_count": 1,
   "metadata": {},
   "outputs": [],
   "source": [
    "import random\n",
    "import math"
   ]
  },
  {
   "cell_type": "code",
   "execution_count": 21,
   "metadata": {},
   "outputs": [
    {
     "name": "stdout",
     "output_type": "stream",
     "text": [
      "truth is:  9147268\n",
      "final count is:  27\n"
     ]
    }
   ],
   "source": [
    "start = 1\n",
    "end = 240000000\n",
    "truth = random.randint(0, end)\n",
    "print('truth is: ', truth)\n",
    "got_it = 0\n",
    "count = 0\n",
    "mid = int(round(0.5*(start+end)))\n",
    "while(got_it == 0):\n",
    "    count=count+1\n",
    "    if(mid == truth):\n",
    "        got_it =1\n",
    "    else:\n",
    "        if(mid > truth):\n",
    "            end = mid\n",
    "            mid = math.floor(0.5*(start+end))\n",
    "            #print('at gcount', count, 'mid is', mid)\n",
    "        elif(mid < truth):\n",
    "            start = mid\n",
    "            mid = math.ceil(0.5*(start+end))\n",
    "            #print('at lcount', count, 'mid is', mid)\n",
    "print('final count is: ', count)"
   ]
  },
  {
   "cell_type": "code",
   "execution_count": 20,
   "metadata": {},
   "outputs": [
    {
     "data": {
      "text/plain": [
       "0"
      ]
     },
     "execution_count": 20,
     "metadata": {},
     "output_type": "execute_result"
    }
   ],
   "source": [
    "int(round(0.4))"
   ]
  },
  {
   "cell_type": "code",
   "execution_count": 47,
   "metadata": {},
   "outputs": [
    {
     "data": {
      "text/plain": [
       "2"
      ]
     },
     "execution_count": 47,
     "metadata": {},
     "output_type": "execute_result"
    }
   ],
   "source": [
    "int(round(1.5))"
   ]
  },
  {
   "cell_type": "code",
   "execution_count": 36,
   "metadata": {},
   "outputs": [
    {
     "data": {
      "text/plain": [
       "22500"
      ]
     },
     "execution_count": 36,
     "metadata": {},
     "output_type": "execute_result"
    }
   ],
   "source": [
    "math.ceil(0.5*(15000+30000))"
   ]
  },
  {
   "cell_type": "code",
   "execution_count": null,
   "metadata": {},
   "outputs": [],
   "source": []
  }
 ],
 "metadata": {
  "kernelspec": {
   "display_name": "Python 3",
   "language": "python",
   "name": "python3"
  },
  "language_info": {
   "codemirror_mode": {
    "name": "ipython",
    "version": 3
   },
   "file_extension": ".py",
   "mimetype": "text/x-python",
   "name": "python",
   "nbconvert_exporter": "python",
   "pygments_lexer": "ipython3",
   "version": "3.8.3"
  }
 },
 "nbformat": 4,
 "nbformat_minor": 4
}
