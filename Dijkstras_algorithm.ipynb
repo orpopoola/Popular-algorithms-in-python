{
 "cells": [
  {
   "cell_type": "code",
   "execution_count": null,
   "metadata": {},
   "outputs": [],
   "source": []
  },
  {
   "cell_type": "code",
   "execution_count": 1,
   "metadata": {},
   "outputs": [],
   "source": [
    "#graph table\n",
    "graph = {}\n",
    "graph[\"start\"] = {}\n",
    "graph[\"start\"][\"A\"] = 6\n",
    "graph[\"start\"][\"B\"] = 2\n",
    "graph[\"A\"] = {}\n",
    "graph[\"A\"][\"fin\"] = 1\n",
    "graph[\"B\"] = {}\n",
    "graph[\"B\"][\"fin\"] = 5\n",
    "graph[\"fin\"] = {}"
   ]
  },
  {
   "cell_type": "code",
   "execution_count": 2,
   "metadata": {},
   "outputs": [],
   "source": [
    "#cost table\n",
    "infinity = float(\"inf\")\n",
    "costs = {}\n",
    "costs[\"A\"] = 6\n",
    "costs[\"B\"] = 2\n",
    "costs[\"fin\"] = infinity"
   ]
  },
  {
   "cell_type": "code",
   "execution_count": 3,
   "metadata": {},
   "outputs": [],
   "source": [
    "#parent table\n",
    "parents = {}\n",
    "parents[\"A\"] = [\"start\"]\n",
    "parents[\"B\"] = [\"start\"]\n",
    "parents[\"fin\"] = None"
   ]
  },
  {
   "cell_type": "code",
   "execution_count": 9,
   "metadata": {},
   "outputs": [],
   "source": [
    "def find_lowest_cost_node(costs,processed):\n",
    "    lowest_cost = float(\"inf\")\n",
    "    lowest_cost_node = None\n",
    "    for node in costs:\n",
    "        cost = costs[node]\n",
    "        if cost<lowest_cost and node not in processed:\n",
    "            lowest_cost_node =  node\n",
    "    return lowest_cost_node"
   ]
  },
  {
   "cell_type": "code",
   "execution_count": 11,
   "metadata": {},
   "outputs": [],
   "source": [
    "def find_cost_and_parents(graph, costs, parents):    \n",
    "    processed = []\n",
    "    node = find_lowest_cost_node(costs,processed)\n",
    "    while node is not None:\n",
    "        cost = costs[node]\n",
    "        neighbors = graph[node]\n",
    "        for n in neighbors.keys():\n",
    "            new_cost = cost + neighbors[n]\n",
    "            if costs[n] > new_cost:\n",
    "                costs[n] = new_cost\n",
    "                parents[n] = node\n",
    "        processed.append(node)\n",
    "        node = find_lowest_cost_node(costs,processed)\n",
    "    return costs, parents"
   ]
  },
  {
   "cell_type": "code",
   "execution_count": 10,
   "metadata": {},
   "outputs": [
    {
     "name": "stdout",
     "output_type": "stream",
     "text": [
      "{'A': 6, 'B': 2, 'fin': inf}\n",
      "{'A': ['start'], 'B': ['start'], 'fin': None}\n"
     ]
    }
   ],
   "source": [
    "print(costs)\n",
    "print(parents)"
   ]
  },
  {
   "cell_type": "code",
   "execution_count": 12,
   "metadata": {},
   "outputs": [
    {
     "name": "stdout",
     "output_type": "stream",
     "text": [
      "{'A': 6, 'B': 2, 'fin': 7}\n",
      "{'A': ['start'], 'B': ['start'], 'fin': 'B'}\n"
     ]
    }
   ],
   "source": [
    "cost, parent = find_cost_and_parents(graph, costs, parents)\n",
    "print(cost)\n",
    "print(parent)"
   ]
  },
  {
   "cell_type": "markdown",
   "metadata": {},
   "source": [
    "Another graph"
   ]
  },
  {
   "cell_type": "code",
   "execution_count": 18,
   "metadata": {},
   "outputs": [],
   "source": [
    "graph2 = {}\n",
    "start = \"start2\"\n",
    "A=\"A2\"\n",
    "B=\"B2\"\n",
    "C=\"C2\"\n",
    "D=\"D2\"\n",
    "E=\"Fin2\"\n",
    "graph2[start] = {}\n",
    "graph2[start][A] = 5\n",
    "graph2[start][B] = 2\n",
    "graph2[A] = {}\n",
    "graph2[A][C] = 2\n",
    "graph2[A][D] = 4\n",
    "graph2[B] = {}\n",
    "graph2[B][A] = 8\n",
    "graph2[B][C] =7\n",
    "graph2[C] = {}\n",
    "graph2[C][E] = 1\n",
    "graph2[D] = {}\n",
    "graph2[D][C] = 6\n",
    "graph2[D][E] = 3\n",
    "graph2[E] = {}"
   ]
  },
  {
   "cell_type": "code",
   "execution_count": 19,
   "metadata": {},
   "outputs": [],
   "source": [
    "#cost table\n",
    "infinity = float(\"inf\")\n",
    "costs2 = {}\n",
    "costs2[A] = 5\n",
    "costs2[B] = 2\n",
    "costs2[C] = infinity\n",
    "costs2[D] = infinity\n",
    "costs2[E] = infinity\n"
   ]
  },
  {
   "cell_type": "code",
   "execution_count": 20,
   "metadata": {},
   "outputs": [],
   "source": [
    "#cost table\n",
    "infinity = float(\"inf\")\n",
    "parents2 = {}\n",
    "parents2[A] = start\n",
    "parents2[B] = start\n",
    "parents2[C] = None\n",
    "parents2[D] = None\n",
    "parents2[E] = None\n"
   ]
  },
  {
   "cell_type": "code",
   "execution_count": 21,
   "metadata": {},
   "outputs": [
    {
     "name": "stdout",
     "output_type": "stream",
     "text": [
      "{'start2': {'A2': 5, 'B2': 2}, 'A2': {'C2': 2, 'D2': 4}, 'B2': {'A2': 8, 'C2': 7}, 'C2': {'Fin2': 1}, 'D2': {'C2': 6, 'Fin2': 3}, 'Fin2': {}}\n",
      "{'A2': 5, 'B2': 2, 'C2': inf, 'D2': inf, 'Fin2': inf}\n",
      "{'A2': 'start2', 'B2': 'start2', 'C2': None, 'D2': None, 'Fin2': None}\n"
     ]
    }
   ],
   "source": [
    "print(graph2)\n",
    "print(costs2)\n",
    "print(parents2)"
   ]
  },
  {
   "cell_type": "code",
   "execution_count": 24,
   "metadata": {},
   "outputs": [
    {
     "name": "stdout",
     "output_type": "stream",
     "text": [
      "{'A2': 5, 'B2': 2, 'C2': 7, 'D2': 9, 'Fin2': 8}\n",
      "{'A2': 'start2', 'B2': 'start2', 'C2': 'A2', 'D2': 'A2', 'Fin2': 'C2'}\n"
     ]
    }
   ],
   "source": [
    "costa, parenta = find_cost_and_parents(graph2, costs2, parents2)\n",
    "print(costa)\n",
    "print(parenta)"
   ]
  },
  {
   "cell_type": "code",
   "execution_count": null,
   "metadata": {},
   "outputs": [],
   "source": []
  }
 ],
 "metadata": {
  "kernelspec": {
   "display_name": "Python 3",
   "language": "python",
   "name": "python3"
  },
  "language_info": {
   "codemirror_mode": {
    "name": "ipython",
    "version": 3
   },
   "file_extension": ".py",
   "mimetype": "text/x-python",
   "name": "python",
   "nbconvert_exporter": "python",
   "pygments_lexer": "ipython3",
   "version": "3.8.3"
  }
 },
 "nbformat": 4,
 "nbformat_minor": 4
}
