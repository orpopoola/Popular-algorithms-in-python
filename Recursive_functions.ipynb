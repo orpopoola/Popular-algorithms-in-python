{
 "cells": [
  {
   "cell_type": "markdown",
   "metadata": {},
   "source": [
    "1. Recursive sum function given an array"
   ]
  },
  {
   "cell_type": "code",
   "execution_count": 1,
   "metadata": {},
   "outputs": [],
   "source": [
    "def sum(arr):\n",
    "    if len(arr)<2:\n",
    "        print(\"Program terminated, sum requires two elements\")\n",
    "    elif len(arr)==2:\n",
    "        return arr[0]+arr[1]\n",
    "    else:\n",
    "        #accumulate the sum of first two items in the first array term\n",
    "        arr[0]= arr[0]+arr[1]\n",
    "        #remove the second item so the third becomes second\n",
    "        arry.pop(1)\n",
    "        #repeat the process until only two items left in array\n",
    "        return sum(arr)"
   ]
  },
  {
   "cell_type": "code",
   "execution_count": 2,
   "metadata": {},
   "outputs": [],
   "source": [
    "arry = ([1,2,3,4,5,6,3,4,3,5,4,3,4,3])"
   ]
  },
  {
   "cell_type": "code",
   "execution_count": 3,
   "metadata": {},
   "outputs": [
    {
     "name": "stdout",
     "output_type": "stream",
     "text": [
      "50\n"
     ]
    }
   ],
   "source": [
    "print(sum(arry))"
   ]
  },
  {
   "cell_type": "markdown",
   "metadata": {},
   "source": [
    "2. Another recursive sum algorithm"
   ]
  },
  {
   "cell_type": "code",
   "execution_count": 4,
   "metadata": {},
   "outputs": [],
   "source": [
    "def sum2(arr):\n",
    "    if arr==[]:\n",
    "        return 0\n",
    "    else:\n",
    "        #keep the first and sum the rest... keep doing this until the rest is an empty set\n",
    "        arr1 = arr[0]\n",
    "        arr.pop(0)\n",
    "        return arr1+sum(arr)"
   ]
  },
  {
   "cell_type": "code",
   "execution_count": 5,
   "metadata": {},
   "outputs": [],
   "source": [
    "arry = ([1,2,3,4,5,6,3,4,3,5,4,3,4,3])"
   ]
  },
  {
   "cell_type": "code",
   "execution_count": 6,
   "metadata": {},
   "outputs": [
    {
     "name": "stdout",
     "output_type": "stream",
     "text": [
      "50\n"
     ]
    }
   ],
   "source": [
    "print(sum2(arry))"
   ]
  },
  {
   "cell_type": "markdown",
   "metadata": {},
   "source": [
    "3. Recursive counting function"
   ]
  },
  {
   "cell_type": "code",
   "execution_count": 7,
   "metadata": {},
   "outputs": [],
   "source": [
    "def count(list):\n",
    "    if list == []:\n",
    "        return 0\n",
    "    else:\n",
    "        list.pop(0)\n",
    "        return 1+count(list)"
   ]
  },
  {
   "cell_type": "code",
   "execution_count": 8,
   "metadata": {},
   "outputs": [],
   "source": [
    "list = ([\"car\", \"ball\", \"board\", \"key\"])"
   ]
  },
  {
   "cell_type": "code",
   "execution_count": 9,
   "metadata": {},
   "outputs": [
    {
     "name": "stdout",
     "output_type": "stream",
     "text": [
      "4\n"
     ]
    }
   ],
   "source": [
    "print(count(list))"
   ]
  },
  {
   "cell_type": "markdown",
   "metadata": {},
   "source": [
    "4. Recursive max finding"
   ]
  },
  {
   "cell_type": "code",
   "execution_count": 10,
   "metadata": {},
   "outputs": [],
   "source": [
    "def maxr(arr):\n",
    "    if arr == []:\n",
    "        return 0\n",
    "    else:\n",
    "        arr1=arr[0]\n",
    "        arr.pop(0)\n",
    "        return maxi(arr1,maxr(arr))"
   ]
  },
  {
   "cell_type": "code",
   "execution_count": 11,
   "metadata": {},
   "outputs": [],
   "source": [
    "def maxi(a,b):\n",
    "    if a>b:\n",
    "        return a\n",
    "    elif b>a:\n",
    "        return b\n",
    "    else:\n",
    "        return a"
   ]
  },
  {
   "cell_type": "code",
   "execution_count": 12,
   "metadata": {},
   "outputs": [],
   "source": [
    "arry = ([1,2,3,4,5,6,3,4,3,5,7,3,4,3])"
   ]
  },
  {
   "cell_type": "code",
   "execution_count": 13,
   "metadata": {},
   "outputs": [
    {
     "data": {
      "text/plain": [
       "7"
      ]
     },
     "execution_count": 13,
     "metadata": {},
     "output_type": "execute_result"
    }
   ],
   "source": [
    "max(arry)"
   ]
  },
  {
   "cell_type": "markdown",
   "metadata": {},
   "source": [
    "5. Recursive binary search"
   ]
  },
  {
   "cell_type": "code",
   "execution_count": 14,
   "metadata": {},
   "outputs": [],
   "source": [
    "import random\n",
    "import math"
   ]
  },
  {
   "cell_type": "code",
   "execution_count": 15,
   "metadata": {},
   "outputs": [],
   "source": [
    "def count_search2(truth,start,end):\n",
    "    mid = int(round(0.5*(start+end)))\n",
    "    if(mid==truth):\n",
    "        return 1\n",
    "    else:\n",
    "        if mid>truth:\n",
    "            return 1+ count_search2(truth,start, mid)\n",
    "        elif mid<truth:\n",
    "            return 1+count_search2(truth, mid, end)"
   ]
  },
  {
   "cell_type": "code",
   "execution_count": 16,
   "metadata": {},
   "outputs": [
    {
     "name": "stdout",
     "output_type": "stream",
     "text": [
      "truth is:  217332\n",
      "final count is:  15\n"
     ]
    }
   ],
   "source": [
    "start = 1\n",
    "end = 240000\n",
    "truth = random.randint(0, end)\n",
    "print('truth is: ', truth)\n",
    "print('final count is: ', count_search2(truth,start,end))"
   ]
  }
 ],
 "metadata": {
  "kernelspec": {
   "display_name": "Python 3",
   "language": "python",
   "name": "python3"
  },
  "language_info": {
   "codemirror_mode": {
    "name": "ipython",
    "version": 3
   },
   "file_extension": ".py",
   "mimetype": "text/x-python",
   "name": "python",
   "nbconvert_exporter": "python",
   "pygments_lexer": "ipython3",
   "version": "3.8.3"
  }
 },
 "nbformat": 4,
 "nbformat_minor": 4
}
