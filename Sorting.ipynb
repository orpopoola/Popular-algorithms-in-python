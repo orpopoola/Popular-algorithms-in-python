{
 "cells": [
  {
   "cell_type": "markdown",
   "metadata": {},
   "source": [
    "Sorting an array of numbers from smallest to largest"
   ]
  },
  {
   "cell_type": "code",
   "execution_count": 30,
   "metadata": {},
   "outputs": [],
   "source": [
    "def find_smallest(arry):\n",
    "    smls = arry[0]\n",
    "    idx = 0\n",
    "    for i in range(len(arry)):\n",
    "        if smls>arry[i]:\n",
    "            smls = arry[i]\n",
    "            idx = i\n",
    "    return smls, idx"
   ]
  },
  {
   "cell_type": "code",
   "execution_count": 31,
   "metadata": {},
   "outputs": [],
   "source": [
    "def find_largest(arry):\n",
    "    smls = arry[0]\n",
    "    idx = 0\n",
    "    for i in range(len(arry)):\n",
    "        if smls<arry[i]:\n",
    "            smls = arry[i]\n",
    "            idx = i\n",
    "    return smls, idx"
   ]
  },
  {
   "cell_type": "code",
   "execution_count": 32,
   "metadata": {},
   "outputs": [],
   "source": [
    "def sortin(arr, dirr):\n",
    "    #Function to sort an array\n",
    "    #first parameter is the array\n",
    "    #second parameter is the direction, 1 for min-->large, 2 for large --> min\n",
    "    narr = []\n",
    "    if (dirr == 1):\n",
    "        for i in range(len(arr)):\n",
    "            sml, idx = find_smallest(arr)\n",
    "            narr.append(sml)\n",
    "            arr = np.delete(arr, idx)\n",
    "    elif (dirr == 2):\n",
    "        for i in range(len(arr)):\n",
    "            sml, idx = find_largest(arr)\n",
    "            narr.append(sml)\n",
    "            arr = np.delete(arr, idx)\n",
    "    else:\n",
    "        print(\"Invalid arguments, dirr must either be 1 or 2\")\n",
    "    return narr       "
   ]
  },
  {
   "cell_type": "code",
   "execution_count": 33,
   "metadata": {},
   "outputs": [
    {
     "name": "stdout",
     "output_type": "stream",
     "text": [
      "original array [2, 30, 17, 5, 27, 10, 23, 13, 3, 19, 30, 20, 30, 28, 27, 24, 4, 22, 0, 17, 12, 25, 23, 7, 17, 17, 21, 30, 11, 23]\n",
      "small to large [0, 2, 3, 4, 5, 7, 10, 11, 12, 13, 17, 17, 17, 17, 19, 20, 21, 22, 23, 23, 23, 24, 25, 27, 27, 28, 30, 30, 30, 30]\n",
      "large to small [30, 30, 30, 30, 28, 27, 27, 25, 24, 23, 23, 23, 22, 21, 20, 19, 17, 17, 17, 17, 13, 12, 11, 10, 7, 5, 4, 3, 2, 0]\n"
     ]
    }
   ],
   "source": [
    "import random\n",
    "import numpy as np\n",
    "arr=[]\n",
    "arr_len = 30\n",
    "for i in range(arr_len):\n",
    "    arr.append(random.randint(0,arr_len))\n",
    "print('original array', arr)\n",
    "print('small to large', sortin(arr,1))\n",
    "print('large to small', sortin(arr,2))"
   ]
  },
  {
   "cell_type": "code",
   "execution_count": 47,
   "metadata": {},
   "outputs": [
    {
     "name": "stdout",
     "output_type": "stream",
     "text": [
      "[2, 2, 6, 6, 6, 8, 9, 9, 9, 10, 10, 13, 13, 14, 15, 15, 15, 16, 17, 20]\n"
     ]
    }
   ],
   "source": [
    "narr = []\n",
    "count = 0\n",
    "for i in range(len(arr)):\n",
    "    sml, idx = find_smallest(arr)\n",
    "    narr.append(sml)\n",
    "    arr = np.delete(arr, idx)\n",
    "print(narr)"
   ]
  },
  {
   "cell_type": "code",
   "execution_count": 47,
   "metadata": {},
   "outputs": [
    {
     "name": "stdout",
     "output_type": "stream",
     "text": [
      "(0, 13)\n"
     ]
    }
   ],
   "source": [
    "print(find_smallest(arr))"
   ]
  },
  {
   "cell_type": "code",
   "execution_count": 17,
   "metadata": {},
   "outputs": [
    {
     "name": "stdout",
     "output_type": "stream",
     "text": [
      "[1, 2, 3, 5]\n"
     ]
    }
   ],
   "source": [
    "c=[1,2,3,4,5]\n",
    "d = c.pop(3)\n",
    "\n",
    "print(c)"
   ]
  },
  {
   "cell_type": "code",
   "execution_count": null,
   "metadata": {},
   "outputs": [],
   "source": []
  }
 ],
 "metadata": {
  "kernelspec": {
   "display_name": "Python 3",
   "language": "python",
   "name": "python3"
  },
  "language_info": {
   "codemirror_mode": {
    "name": "ipython",
    "version": 3
   },
   "file_extension": ".py",
   "mimetype": "text/x-python",
   "name": "python",
   "nbconvert_exporter": "python",
   "pygments_lexer": "ipython3",
   "version": "3.8.3"
  }
 },
 "nbformat": 4,
 "nbformat_minor": 4
}
