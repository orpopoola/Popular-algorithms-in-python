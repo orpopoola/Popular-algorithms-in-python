{
 "cells": [
  {
   "cell_type": "markdown",
   "metadata": {},
   "source": [
    "Code to find possible number of squares in a rectangles\n"
   ]
  },
  {
   "cell_type": "code",
   "execution_count": 74,
   "metadata": {},
   "outputs": [],
   "source": [
    "def findSqr(length, width):\n",
    "    #termination condition if\n",
    "    #1. length and width becomes equal ie we get a square\n",
    "    #2. length is zero or width is zero\n",
    "    if (length == width):\n",
    "        return length\n",
    "    elif width==0:\n",
    "        return length\n",
    "    if (length>1)&(width>1):\n",
    "        if length>width:\n",
    "            rem = length%width\n",
    "            length =  width\n",
    "            width = rem\n",
    "            return findSqr(length,width)\n",
    "        elif width>length:\n",
    "            hold = width\n",
    "            width = length\n",
    "            length = hold\n",
    "            return findSqr(length, width)\n",
    "    else:\n",
    "        print(\"below 1\")"
   ]
  },
  {
   "cell_type": "code",
   "execution_count": 79,
   "metadata": {},
   "outputs": [
    {
     "name": "stdout",
     "output_type": "stream",
     "text": [
      "Smallest sqare has side:  1000\n",
      "Total number of squares is:  50.0\n"
     ]
    }
   ],
   "source": [
    "l=25000\n",
    "w=2000\n",
    "lst_sqr = findSqr(l,w)\n",
    "print(\"Smallest sqare has side: \",lst_sqr)\n",
    "num_sqr = l*w/(lst_sqr*lst_sqr)\n",
    "print(\"Total number of squares is: \",num_sqr)"
   ]
  },
  {
   "cell_type": "code",
   "execution_count": null,
   "metadata": {},
   "outputs": [],
   "source": []
  }
 ],
 "metadata": {
  "kernelspec": {
   "display_name": "Python 3",
   "language": "python",
   "name": "python3"
  },
  "language_info": {
   "codemirror_mode": {
    "name": "ipython",
    "version": 3
   },
   "file_extension": ".py",
   "mimetype": "text/x-python",
   "name": "python",
   "nbconvert_exporter": "python",
   "pygments_lexer": "ipython3",
   "version": "3.8.3"
  }
 },
 "nbformat": 4,
 "nbformat_minor": 4
}
